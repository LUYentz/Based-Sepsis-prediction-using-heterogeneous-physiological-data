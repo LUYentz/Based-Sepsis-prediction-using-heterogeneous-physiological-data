{
 "cells": [
  {
   "cell_type": "code",
   "execution_count": 2,
   "metadata": {},
   "outputs": [
    {
     "name": "stderr",
     "output_type": "stream",
     "text": [
      "Using TensorFlow backend.\n"
     ]
    }
   ],
   "source": [
    "# %load Main.py\n",
    "import numpy as np\n",
    "import tensorflow as tf\n",
    "import PreProcess as PrePro\n",
    "import pandas as pd\n",
    "import matplotlib.pyplot as plt\n",
    "from datetime import date\n",
    "\n",
    "from keras.optimizers import Adam, SGD,RMSprop\n",
    "from keras.callbacks import ModelCheckpoint, EarlyStopping, ReduceLROnPlateau, CSVLogger\n",
    "import matplotlib.pyplot as plt\n",
    "from sklearn.model_selection import StratifiedKFold\n",
    "from keras.models import load_model\n",
    "\n",
    "import sklearn\n",
    "import math\n",
    "import unet_model\n",
    "import Data_Load\n",
    "import unet_info\n",
    "import common\n",
    "import pandas as pd\n",
    "import logging\n",
    "import argparse\n",
    "import time\n",
    "import segnet\n",
    "import maskrcnn\n",
    "import os\n",
    "import openpyxl"
   ]
  },
  {
   "cell_type": "code",
   "execution_count": 3,
   "metadata": {},
   "outputs": [
    {
     "name": "stdout",
     "output_type": "stream",
     "text": [
      "GPU setting completed.\n",
      "Tensorflow version: 1.10.0\n",
      "Keras version 2.2.0\n",
      "Dim ordering: tf\n"
     ]
    }
   ],
   "source": [
    "sess = tf.Session(config=tf.ConfigProto(log_device_placement=True))\n",
    "unet_info.begin()"
   ]
  },
  {
   "cell_type": "code",
   "execution_count": 4,
   "metadata": {},
   "outputs": [
    {
     "name": "stdout",
     "output_type": "stream",
     "text": [
      "Load data\n",
      "(200000, 1, 4096, 1)\n",
      "Finish Load data\n"
     ]
    }
   ],
   "source": [
    "subseq =4096\n",
    "dbName  = \"SepsisDataset\"\n",
    "print(\"Load data\")\n",
    "X, Y, X_train, X_test, Y_train, Y_test, N_FEATURES, classes = Data_Load.load_data(dbName,subseq)\n",
    "#get dense prediction results with overlap(transformed win data label's ground truth)\n",
    "# y_test_resh = y_test.reshape(y_test.shape[0], y_test.shape[2], -1)\n",
    "# y_test_resh_argmax = np.argmax(y_test_resh, axis=2)\n",
    "# labels_test_unary = y_test_resh_argmax.reshape(y_test_resh_argmax.size)\n",
    "# file_labels_test_unary = 'labels_gd_'+args.dataset+'_'+str(subseq)+'0317.npy'\n",
    "# np.save(file_labels_test_unary,labels_test_unary)\n",
    "print(\"Finish Load data\")"
   ]
  },
  {
   "cell_type": "code",
   "execution_count": 5,
   "metadata": {},
   "outputs": [],
   "source": [
    "## 10-flod cross validation###\n",
    "del X,Y\n",
    "epochs = 45 #50\n",
    "batch_size = 64 #64 #128\n",
    "optim_type = 'adam'\n",
    "learning_rate = 0.02 # 0.05 # 0.01 #0.02\n",
    "sum_time = 0\n",
    "net = 'unet'\n",
    "block = '5'"
   ]
  },
  {
   "cell_type": "code",
   "execution_count": 12,
   "metadata": {},
   "outputs": [],
   "source": [
    "rf_path = 'Result/4096/0321_0205_4096'\n",
    "nowtime = '0321_0205_4096'\n",
    "cvscores = []\n",
    "cvsloss = []"
   ]
  },
  {
   "cell_type": "code",
   "execution_count": null,
   "metadata": {},
   "outputs": [
    {
     "name": "stdout",
     "output_type": "stream",
     "text": [
      "k-fold Floder created\n",
      "\n",
      "\n",
      "0 Running...\n",
      "[0.9941199951171875]\n",
      "[0.016468735366262435]\n",
      "\n",
      "\n",
      "1 Running...\n",
      "[0.9941199951171875, 0.9937726915147569]\n",
      "[0.016468735366262435, 0.01558910991894825]\n",
      "\n",
      "\n",
      "2 Running...\n",
      "[0.9941199951171875, 0.9937726915147569, 0.993624267578125]\n",
      "[0.016468735366262435, 0.01558910991894825, 0.017197023864660068]\n",
      "\n",
      "\n",
      "3 Running...\n",
      "[0.9941199951171875, 0.9937726915147569, 0.993624267578125, 0.9909441731770834]\n",
      "[0.016468735366262435, 0.01558910991894825, 0.017197023864660068, 0.03487152868556344]\n",
      "\n",
      "\n",
      "4 Running...\n",
      "[0.9941199951171875, 0.9937726915147569, 0.993624267578125, 0.9909441731770834, 0.9949945339626736]\n",
      "[0.016468735366262435, 0.01558910991894825, 0.017197023864660068, 0.03487152868556344, 0.015518172406586624]\n",
      "\n",
      "\n",
      "5 Running...\n"
     ]
    }
   ],
   "source": [
    "ksize = 10\n",
    "pice = int(X_train.shape[0]/ ksize)\n",
    "print('k-fold Floder created') if os.path.isdir(rf_path +'/k_flod') else os.mkdir(rf_path+'/k_flod')\n",
    "for k in range(6):\n",
    "    fp = open(rf_path+'/Result_'+nowtime+'.txt','a')\n",
    "    trainX = X_train[np.r_[0:k*pice,(k+1)*pice:X_train.shape[0]]]\n",
    "    trainY = Y_train[np.r_[0:k*pice,(k+1)*pice:X_train.shape[0]]]\n",
    "    valX = X_train[np.r_[k*pice:(k+1)*pice]]\n",
    "    valY = Y_train[np.r_[k*pice:(k+1)*pice]]\n",
    "    print(\"\\n\")\n",
    "    print(str(k)+\" Running...\")\n",
    "    print(str(k)+\" Running...\",file=fp)\n",
    "    # load model\n",
    "    Kmodel = load_model(rf_path+ '/k_flod/'+str(k)+'_Model_0321_0205_4096_64_adam.h5py')\n",
    "    \n",
    "    Kscores = Kmodel.evaluate(valX, valY, verbose=0)\n",
    "    print(\"%s: %.2f%%\" % (Kmodel.metrics_names[1], Kscores[1]*100), file=fp)\n",
    "    print(\"%s: %.2f%%\" % (Kmodel.metrics_names[0], Kscores[0]), file=fp)\n",
    "    cvscores.append(Kscores[1])\n",
    "    cvsloss.append(Kscores[0])\n",
    "    print(cvscores)\n",
    "    print(cvsloss)\n",
    "    fp.close()\n",
    "    \n",
    "    del trainX,trainY, valX, valY, Kmodel"
   ]
  },
  {
   "cell_type": "code",
   "execution_count": null,
   "metadata": {},
   "outputs": [],
   "source": []
  }
 ],
 "metadata": {
  "kernelspec": {
   "display_name": "tensorflow-gpu",
   "language": "python",
   "name": "tensorflow-gpu"
  },
  "language_info": {
   "codemirror_mode": {
    "name": "ipython",
    "version": 3
   },
   "file_extension": ".py",
   "mimetype": "text/x-python",
   "name": "python",
   "nbconvert_exporter": "python",
   "pygments_lexer": "ipython3",
   "version": "3.6.2"
  }
 },
 "nbformat": 4,
 "nbformat_minor": 2
}
